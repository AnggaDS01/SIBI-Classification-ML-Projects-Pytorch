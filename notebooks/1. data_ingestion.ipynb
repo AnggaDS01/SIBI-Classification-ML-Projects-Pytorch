{
 "cells": [
  {
   "cell_type": "markdown",
   "metadata": {},
   "source": [
    "# IMPORT LIBRARIES"
   ]
  },
  {
   "cell_type": "code",
   "execution_count": 1,
   "metadata": {},
   "outputs": [],
   "source": [
    "import sys\n",
    "import requests\n",
    "import zipfile\n",
    "\n",
    "from tqdm import tqdm\n",
    "from pathlib import Path\n",
    "from SIBI_classifier.configuration.configuration import ConfigurationManager\n",
    "from SIBI_classifier.exception import SIBIClassificationException\n",
    "from SIBI_classifier.logger.logging import *"
   ]
  },
  {
   "cell_type": "markdown",
   "metadata": {},
   "source": [
    "# SETUP CONSTANTS\n",
    "In this section, we will define some constants that are important for data processing and model training.\n",
    "These constants will help us set the dataset folder path, the extension pattern of the image files to be collected, and which folders to access.\n",
    "Later, these constants will be used in various parts of the code."
   ]
  },
  {
   "cell_type": "code",
   "execution_count": 2,
   "metadata": {},
   "outputs": [
    {
     "name": "stderr",
     "output_type": "stream",
     "text": [
      "\u001b[32m[ 2024-12-10 19:51:45 ] create_directories_logger\u001b[0m - \u001b[32mINFO\u001b[0m - created directory at: \u001b[96martifacts\u001b[0m\n",
      "\u001b[32m[ 2024-12-10 19:51:45 ] create_directories_logger\u001b[0m - \u001b[32mINFO\u001b[0m - created directory at: \u001b[96martifacts/<model_name>/data_ingestion/SIBI_dataset\u001b[0m\n"
     ]
    }
   ],
   "source": [
    "CONFIG = ConfigurationManager()\n",
    "DATA_INGESTION_CONFIG = CONFIG.get_data_ingestion_config()\n",
    "\n",
    "logger = log_manager.setup_logger(\"DataIngestionLogger\")"
   ]
  },
  {
   "cell_type": "markdown",
   "metadata": {},
   "source": [
    "# GETTING DATA FROM URL"
   ]
  },
  {
   "cell_type": "markdown",
   "metadata": {},
   "source": [
    "## function"
   ]
  },
  {
   "cell_type": "code",
   "execution_count": 3,
   "metadata": {},
   "outputs": [],
   "source": [
    "def download_zip(\n",
    "    url: str, \n",
    "    save_zip_file_path: Path, \n",
    "    chunk_size: int = 1024\n",
    ") -> None:\n",
    "    \"\"\"\n",
    "    Downloads a file from a given URL to the specified path.\n",
    "    \n",
    "    Args:\n",
    "        url (str): URL of the file to download.\n",
    "        save_zip_file_path (Path): The path where the file will be saved.\n",
    "        chunk_size (int): The chunk size for download. Default is 1024 (1 KB).\n",
    "    \n",
    "    Raises:\n",
    "        requests.exceptions.RequestException: If an error occurs during download.\n",
    "    \"\"\"\n",
    "    try:\n",
    "        response = requests.get(url, stream=True, timeout=10)\n",
    "        response.raise_for_status()  # Check for HTTP errors\n",
    "        \n",
    "        total_size = int(response.headers.get('content-length', 0))\n",
    "        with open(save_zip_file_path, \"wb\") as file, tqdm(\n",
    "                desc=f\"Downloading {save_zip_file_path}\",\n",
    "                total=total_size,\n",
    "                unit='B', unit_scale=True, unit_divisor=1024,\n",
    "        ) as bar:\n",
    "            for chunk in response.iter_content(chunk_size=chunk_size):\n",
    "                file.write(chunk)\n",
    "                bar.update(len(chunk))\n",
    "\n",
    "        DOWNLOAD_ZIP_LOGGER.debug(f\"File downloaded to {log_manager.color_text(save_zip_file_path, 'blue')}\")\n",
    "\n",
    "    except requests.exceptions.RequestException as e:\n",
    "        raise Exception(f\"Error downloading the file: {e}\")\n",
    "    \n",
    "    except Exception as e:\n",
    "        raise SIBIClassificationException(e, sys)"
   ]
  },
  {
   "cell_type": "code",
   "execution_count": 4,
   "metadata": {},
   "outputs": [],
   "source": [
    "def extract_zip(\n",
    "    zip_file_path: Path, \n",
    "    extract_dir: Path, \n",
    "    is_file_removed: bool = True\n",
    ") -> None:\n",
    "    \"\"\"\n",
    "    Extracts a zip file to a specified directory.\n",
    "\n",
    "    Args:\n",
    "        zip_file_path (Path): The path to the zip file.\n",
    "        extract_dir (Path): The directory where files will be extracted.\n",
    "        is_file_removed (bool): Delete the zip file after extraction if True.\n",
    "    \n",
    "    Raises:\n",
    "        zipfile.BadZipFile: If the file is not a valid zip file.\n",
    "    \"\"\"\n",
    "    try:\n",
    "        with zipfile.ZipFile(zip_file_path, 'r') as zip_ref:\n",
    "            zip_ref.extractall(extract_dir)\n",
    "            EXTRACT_ZIP_LOGGER.debug(f\"Files extracted to {log_manager.color_text(extract_dir, 'green')}\")\n",
    "\n",
    "        # Remove zip file if specified\n",
    "        if is_file_removed and zip_file_path.exists():\n",
    "            zip_file_path.unlink()\n",
    "            EXTRACT_ZIP_LOGGER.debug(\"Downloaded zip file removed.\")\n",
    "\n",
    "    except zipfile.BadZipFile:\n",
    "        raise Exception(\"Error: The downloaded file is not a valid zip file.\")\n",
    "    \n",
    "    except Exception as e:\n",
    "        raise SIBIClassificationException(e, sys)"
   ]
  },
  {
   "cell_type": "markdown",
   "metadata": {},
   "source": [
    "## main program"
   ]
  },
  {
   "cell_type": "markdown",
   "metadata": {},
   "source": [
    "### Download the zip file to the specified path"
   ]
  },
  {
   "cell_type": "code",
   "execution_count": 5,
   "metadata": {},
   "outputs": [
    {
     "name": "stderr",
     "output_type": "stream",
     "text": [
      "Downloading artifacts/<model_name>/data_ingestion/SIBI_dataset/SIBI_datasets.zip: 100%|██████████| 97.7M/97.7M [00:25<00:00, 4.10MB/s]\n",
      "\u001b[36m[ 2024-12-10 19:52:12 ] download zip logger\u001b[0m - \u001b[36mDEBUG\u001b[0m - File downloaded to \u001b[94martifacts/<model_name>/data_ingestion/SIBI_dataset/SIBI_datasets.zip\u001b[0m\n"
     ]
    }
   ],
   "source": [
    "download_zip(\n",
    "    url=DATA_INGESTION_CONFIG.data_download_url,\n",
    "    save_zip_file_path=DATA_INGESTION_CONFIG.zip_file_path,\n",
    ")"
   ]
  },
  {
   "cell_type": "code",
   "execution_count": 6,
   "metadata": {},
   "outputs": [
    {
     "name": "stderr",
     "output_type": "stream",
     "text": [
      "\u001b[32m[ 2024-12-10 19:52:12 ] DataIngestionLogger\u001b[0m - \u001b[32mINFO\u001b[0m - Extracting the dataset from the downloaded zip file: \u001b[96martifacts/<model_name>/data_ingestion/SIBI_dataset/SIBI_datasets.zip\u001b[0m\n",
      "\u001b[36m[ 2024-12-10 19:52:14 ] extract zip logger\u001b[0m - \u001b[36mDEBUG\u001b[0m - Files extracted to \u001b[92martifacts/<model_name>/data_ingestion/SIBI_dataset\u001b[0m\n",
      "\u001b[36m[ 2024-12-10 19:52:14 ] extract zip logger\u001b[0m - \u001b[36mDEBUG\u001b[0m - Downloaded zip file removed.\u001b[0m\n",
      "\u001b[32m[ 2024-12-10 19:52:14 ] DataIngestionLogger\u001b[0m - \u001b[32mINFO\u001b[0m - Got the data from URL: \u001b[94mhttps://huggingface.co/datasets/Anggads01/SIBI-datasets/resolve/main/SIBI_datasets.zip\u001b[0m\n"
     ]
    }
   ],
   "source": [
    "# Extract the dataset from the downloaded zip file\n",
    "logger.info(f\"Extracting the dataset from the downloaded zip file: {log_manager.color_text(DATA_INGESTION_CONFIG.zip_file_path, 'cyan')}\")\n",
    "\n",
    "# Extract the dataset to the specified directory\n",
    "extract_zip(\n",
    "    zip_file_path=DATA_INGESTION_CONFIG.zip_file_path,\n",
    "    extract_dir=DATA_INGESTION_CONFIG.data_download_store_dir_path\n",
    ")\n",
    "\n",
    "logger.info(f\"Got the data from URL: {log_manager.color_text(DATA_INGESTION_CONFIG.data_download_url, 'blue')}\")"
   ]
  },
  {
   "cell_type": "code",
   "execution_count": 7,
   "metadata": {},
   "outputs": [],
   "source": [
    "log_manager.clean_log_file()"
   ]
  }
 ],
 "metadata": {
  "kernelspec": {
   "display_name": "pytorch_gpu",
   "language": "python",
   "name": "python3"
  },
  "language_info": {
   "codemirror_mode": {
    "name": "ipython",
    "version": 3
   },
   "file_extension": ".py",
   "mimetype": "text/x-python",
   "name": "python",
   "nbconvert_exporter": "python",
   "pygments_lexer": "ipython3",
   "version": "3.11.10"
  }
 },
 "nbformat": 4,
 "nbformat_minor": 2
}
