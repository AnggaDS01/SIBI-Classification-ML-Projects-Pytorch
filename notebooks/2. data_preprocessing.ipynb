{
 "cells": [
  {
   "cell_type": "markdown",
   "metadata": {},
   "source": [
    "# IMPORT LIBRARIES"
   ]
  },
  {
   "cell_type": "code",
   "execution_count": null,
   "metadata": {},
   "outputs": [],
   "source": [
    "import sys\n",
    "import random\n",
    "import re\n",
    "import numpy as np\n",
    "import torch\n",
    "\n",
    "from tqdm import tqdm\n",
    "from pathlib import Path\n",
    "from SIBI_classifier.logger.logging import log_manager\n",
    "from SIBI_classifier.utils.main_utils import custom_title_print\n",
    "from concurrent.futures import ThreadPoolExecutor\n",
    "from SIBI_classifier.configuration.configuration import ConfigurationManager\n",
    "from SIBI_classifier.exception import SIBIClassificationException\n",
    "\n",
    "collect_and_combine_images_logger = log_manager.setup_logger(\"CollectAndCombineImagesLogger\", console_output=False)"
   ]
  },
  {
   "cell_type": "markdown",
   "metadata": {},
   "source": [
    "# SETUP CONSTANTS\n",
    "In this section, we will define some constants that are important for data processing and model training.\n",
    "These constants will help us set the dataset folder path, the extension pattern of the image files to be collected, and which folders to access.\n",
    "Later, these constants will be used in various parts of the code."
   ]
  },
  {
   "cell_type": "markdown",
   "metadata": {},
   "source": [
    "## function"
   ]
  },
  {
   "cell_type": "code",
   "execution_count": 3,
   "metadata": {},
   "outputs": [],
   "source": [
    "def collect_images_with_regex_and_count(\n",
    "        path, \n",
    "        folder_classes, \n",
    "        extensions_pattern\n",
    "    ):\n",
    "    \"\"\"\n",
    "    Collects images from specified directories that match a given file extension pattern.\n",
    "\n",
    "    Args:\n",
    "        path (str): The root directory path containing the folder classes.\n",
    "        folder_classes (list): List of folder names representing different classes.\n",
    "        extensions_pattern (str): Regex pattern to match file extensions.\n",
    "\n",
    "    Returns:\n",
    "        dict: A dictionary where keys are folder classes and values are lists of image paths.\n",
    "    \"\"\"\n",
    "    try:\n",
    "        # Initialize a dictionary to hold image paths for each class\n",
    "        image_paths = {folder_class: [] for folder_class in folder_classes}\n",
    "        \n",
    "        # Compile the regex pattern for matching file extensions\n",
    "        pattern = re.compile(str(extensions_pattern), re.IGNORECASE)\n",
    "\n",
    "        # Iterate over each class folder\n",
    "        for folder_class in folder_classes:\n",
    "            folder_path = Path(path) / folder_class\n",
    "\n",
    "            # Recursively search for files matching the pattern in each class folder\n",
    "            for file_path in tqdm(folder_path.rglob(\"*\"), desc=f\"Collecting from {folder_class}\", unit=\" paths\"):\n",
    "                if pattern.search(file_path.suffix):\n",
    "                    image_paths[folder_class].append(file_path)\n",
    "\n",
    "        return image_paths\n",
    "\n",
    "    except Exception as e:\n",
    "        # Handle exceptions and return an empty dictionary if no classes are retrieved\n",
    "        print(f\"No classes are retrieved from directory due to an error: {e}\")\n",
    "        return {}"
   ]
  },
  {
   "cell_type": "code",
   "execution_count": 4,
   "metadata": {},
   "outputs": [],
   "source": [
    "def get_random_images(\n",
    "        image_paths, \n",
    "        num_samples, \n",
    "        seed=42\n",
    "    ):\n",
    "    \"\"\"\n",
    "    Retrieves a random number of images from the image path list.\n",
    "    Args:\n",
    "        image_paths (list): A list of image paths.\n",
    "        num_samples (int): The number of images to retrieve. If None, all images will be selected.\n",
    "        seed (int): Seed to control the random retrieval results so that the results can be reproduced. Default is 42.\n",
    "    Returns:\n",
    "        list: A list of randomly selected image paths.\n",
    "    \"\"\"\n",
    "\n",
    "    try:\n",
    "        random.seed(seed)\n",
    "        return random.sample(image_paths, min(len(image_paths) if num_samples is None else num_samples, len(image_paths)))\n",
    "\n",
    "    except Exception as e:\n",
    "        raise SIBIClassificationException(e, sys)"
   ]
  },
  {
   "cell_type": "code",
   "execution_count": 5,
   "metadata": {},
   "outputs": [],
   "source": [
    "def collect_and_combine_images(\n",
    "        classes, \n",
    "        train_path=None, \n",
    "        valid_path=None,\n",
    "        test_path=None, \n",
    "        pattern_regex=r\"\\.(jpe?g)$\", \n",
    "        num_images_per_class=None, \n",
    "        seed=42\n",
    "    ):\n",
    "    \"\"\"\n",
    "    Collects and merges images from the training and validation folders, and retrieves a random number of images from each class.\n",
    "    Args:\n",
    "        classes (list): List of classes (folder names) to process.\n",
    "        train_path (str): The main path of the training folder that contains image data sub-folders.\n",
    "        valid_path (str): The main path of the validation folder that contains the image data sub-folders.\n",
    "        pattern_regex (str): The regex pattern for matching image file extensions (e.g. r'\\.(jpg|png|jpeg)$').\n",
    "        num_images_per_class (dict): Dictionary containing the number of images to fetch for each class. If None, all images will be retrieved.\n",
    "        seed (int): Seed for random image retrieval. Default is 42.\n",
    "    Returns:\n",
    "        list: A combined list of image paths from the training and validation folders that were randomly picked.\n",
    "    \"\"\"\n",
    "\n",
    "    try:\n",
    "        def process_class(cls):\n",
    "            # Combine images from training and validation for each class\n",
    "            all_train_images = train_images_paths.get(cls, [])\n",
    "            all_valid_images = valid_images_paths.get(cls, [])\n",
    "            all_test_images = test_images_paths.get(cls, [])\n",
    "            all_combined_images = all_train_images + all_valid_images + all_test_images\n",
    "\n",
    "            # Retrieve a random number of images from the combined image\n",
    "            return get_random_images(\n",
    "                image_paths=all_combined_images,\n",
    "                num_samples=None if num_images_per_class is None else num_images_per_class.get(cls, len(all_combined_images)),\n",
    "                seed=seed\n",
    "            )\n",
    "\n",
    "        custom_title_print(f\"COLLECT {classes} FROM TRAINING DATA\")\n",
    "        train_images_paths = collect_images_with_regex_and_count(train_path, classes, pattern_regex)\n",
    "        custom_title_print(f\"=\")\n",
    "        print()\n",
    "\n",
    "        # Print the title for the image collection process of the validation data\n",
    "        custom_title_print(f\"COLLECT {classes} FROM VALIDATION DATA\")\n",
    "        valid_images_paths = collect_images_with_regex_and_count(valid_path, classes, pattern_regex)\n",
    "        custom_title_print(f\"=\")\n",
    "        print()\n",
    "\n",
    "        # Print the title for the image collection process of the test data\n",
    "        custom_title_print(f\"COLLECT {classes} FROM TEST DATA\")\n",
    "        test_images_paths = collect_images_with_regex_and_count(test_path, classes, pattern_regex)\n",
    "        custom_title_print(f\"=\")\n",
    "        print()\n",
    "\n",
    "        # Print titles for the process of merging images from training and validation\n",
    "        custom_title_print(f\"COMBINING {classes} FROM TRAINING AND VALIDATION DATA\")\n",
    "\n",
    "        random_images = {}\n",
    "\n",
    "        # Using ThreadPoolExecutor to speed up the process of fetching images from each class in parallel\n",
    "        with ThreadPoolExecutor() as executor:\n",
    "            results = executor.map(process_class, classes)\n",
    "\n",
    "        # Store the random image results for each class into the dictionary\n",
    "        for cls, images in zip(classes, results):\n",
    "            random_images[cls] = images\n",
    "            collect_and_combine_images_logger.info(f\"Total {cls} taken: {log_manager.color_text(len(random_images[cls]), 'yellow')}\")\n",
    "\n",
    "        # Merge all image paths from all classes\n",
    "        all_images_paths = sum(random_images.values(), [])\n",
    "        all_images_paths = [str(path) for path in all_images_paths]\n",
    "        custom_title_print(f\"Total images taken: {len(all_images_paths)}\")\n",
    "\n",
    "        return all_images_paths\n",
    "\n",
    "    except Exception as e:\n",
    "        raise SIBIClassificationException(e, sys)"
   ]
  },
  {
   "cell_type": "markdown",
   "metadata": {},
   "source": [
    "## main program"
   ]
  },
  {
   "cell_type": "code",
   "execution_count": null,
   "metadata": {},
   "outputs": [
    {
     "name": "stderr",
     "output_type": "stream",
     "text": [
      "\u001b[32m[ 2024-11-28 13:00:18 ] CreateDirectoriesLogger\u001b[0m - \u001b[32mINFO\u001b[0m - created directory at: \u001b[96martifacts\u001b[0m\n",
      "\u001b[32m[ 2024-11-28 13:00:18 ] CreateDirectoriesLogger\u001b[0m - \u001b[32mINFO\u001b[0m - created directory at: \u001b[96martifacts/<model_name>/data_preprocessing/objects\u001b[0m\n",
      "\u001b[32m[ 2024-11-28 13:00:18 ] CreateDirectoriesLogger\u001b[0m - \u001b[32mINFO\u001b[0m - created directory at: \u001b[96martifacts/<model_name>/data_ingestion/SIBI_dataset\u001b[0m\n"
     ]
    }
   ],
   "source": [
    "CONFIG = ConfigurationManager()\n",
    "data_preprocessing_config = CONFIG.get_data_preprocessing_config()\n",
    "data_ingestion_config = CONFIG.get_data_ingestion_config()\n",
    "logger = log_manager.setup_logger(\"DataPreprocessingLogger\")\n",
    "\n",
    "np.random.seed(data_preprocessing_config.seed)\n",
    "random.seed(data_preprocessing_config.seed)\n",
    "torch.manual_seed(data_preprocessing_config.seed)"
   ]
  },
  {
   "cell_type": "code",
   "execution_count": null,
   "metadata": {},
   "outputs": [
    {
     "name": "stdout",
     "output_type": "stream",
     "text": [
      "==========================================================================================================================================================================================================================================================\n",
      "==============================================COLLECT ['A', 'B', 'C', 'D', 'E', 'F', 'G', 'H', 'I', 'J', 'K', 'L', 'M', 'N', 'O', 'P', 'Q', 'R', 'S', 'T', 'U', 'V', 'W', 'X', 'Y', 'Z'] FROM TRAINING DATA===============================================\n",
      "==========================================================================================================================================================================================================================================================\n"
     ]
    },
    {
     "name": "stderr",
     "output_type": "stream",
     "text": [
      "Collecting from A: 200 paths [00:00, 57420.82 paths/s]\n",
      "Collecting from B: 200 paths [00:00, 54602.67 paths/s]\n",
      "Collecting from C: 200 paths [00:00, 44348.97 paths/s]\n",
      "Collecting from D: 200 paths [00:00, 44334.91 paths/s]\n",
      "Collecting from E: 200 paths [00:00, 73908.44 paths/s]\n",
      "Collecting from F: 200 paths [00:00, 45779.35 paths/s]\n",
      "Collecting from G: 200 paths [00:00, 53227.21 paths/s]\n",
      "Collecting from H: 200 paths [00:00, 37452.49 paths/s]\n",
      "Collecting from I: 200 paths [00:00, 32819.28 paths/s]\n",
      "Collecting from J: 200 paths [00:00, 49929.22 paths/s]\n",
      "Collecting from K: 200 paths [00:00, 42607.72 paths/s]\n",
      "Collecting from L: 200 paths [00:00, 27420.02 paths/s]\n",
      "Collecting from M: 200 paths [00:00, 52298.05 paths/s]\n",
      "Collecting from N: 200 paths [00:00, 31769.01 paths/s]\n",
      "Collecting from O: 200 paths [00:00, 47532.91 paths/s]\n",
      "Collecting from P: 200 paths [00:00, 52576.67 paths/s]\n",
      "Collecting from Q: 200 paths [00:00, 46386.91 paths/s]\n",
      "Collecting from R: 200 paths [00:00, 54888.49 paths/s]\n",
      "Collecting from S: 200 paths [00:00, 40304.66 paths/s]\n",
      "Collecting from T: 200 paths [00:00, 34187.59 paths/s]\n",
      "Collecting from U: 200 paths [00:00, 29968.95 paths/s]\n",
      "Collecting from V: 200 paths [00:00, 31637.22 paths/s]\n",
      "Collecting from W: 200 paths [00:00, 39888.77 paths/s]\n",
      "Collecting from X: 200 paths [00:00, 33360.94 paths/s]\n",
      "Collecting from Y: 200 paths [00:00, 38531.11 paths/s]\n",
      "Collecting from Z: 200 paths [00:00, 58298.76 paths/s]\n"
     ]
    },
    {
     "name": "stdout",
     "output_type": "stream",
     "text": [
      "==========================================================================================================================================================================================================================================================\n",
      "==========================================================================================================================================================================================================================================================\n",
      "==========================================================================================================================================================================================================================================================\n",
      "\n",
      "==========================================================================================================================================================================================================================================================\n",
      "=============================================COLLECT ['A', 'B', 'C', 'D', 'E', 'F', 'G', 'H', 'I', 'J', 'K', 'L', 'M', 'N', 'O', 'P', 'Q', 'R', 'S', 'T', 'U', 'V', 'W', 'X', 'Y', 'Z'] FROM VALIDATION DATA==============================================\n",
      "==========================================================================================================================================================================================================================================================\n",
      "No classes are retrieved from directory due to an error: expected str, bytes or os.PathLike object, not NoneType\n",
      "==========================================================================================================================================================================================================================================================\n",
      "==========================================================================================================================================================================================================================================================\n",
      "==========================================================================================================================================================================================================================================================\n",
      "\n",
      "==========================================================================================================================================================================================================================================================\n",
      "================================================COLLECT ['A', 'B', 'C', 'D', 'E', 'F', 'G', 'H', 'I', 'J', 'K', 'L', 'M', 'N', 'O', 'P', 'Q', 'R', 'S', 'T', 'U', 'V', 'W', 'X', 'Y', 'Z'] FROM TEST DATA=================================================\n",
      "==========================================================================================================================================================================================================================================================\n",
      "No classes are retrieved from directory due to an error: expected str, bytes or os.PathLike object, not NoneType\n",
      "==========================================================================================================================================================================================================================================================\n",
      "==========================================================================================================================================================================================================================================================\n",
      "==========================================================================================================================================================================================================================================================\n",
      "\n",
      "==========================================================================================================================================================================================================================================================\n",
      "======================================COMBINING ['A', 'B', 'C', 'D', 'E', 'F', 'G', 'H', 'I', 'J', 'K', 'L', 'M', 'N', 'O', 'P', 'Q', 'R', 'S', 'T', 'U', 'V', 'W', 'X', 'Y', 'Z'] FROM TRAINING AND VALIDATION DATA======================================\n",
      "==========================================================================================================================================================================================================================================================\n",
      "==========================================================================================================================================================================================================================================================\n",
      "=================================================================================================================TOTAL IMAGES TAKEN: 5200=================================================================================================================\n",
      "==========================================================================================================================================================================================================================================================\n"
     ]
    }
   ],
   "source": [
    "logger.info(\"Collecting and combining images from training and validation folders...\")\n",
    "\n",
    "all_images_paths = collect_and_combine_images(\n",
    "    classes = data_preprocessing_config.label_list,\n",
    "    train_path  = data_ingestion_config.data_download_store_train_dir_path,\n",
    "    pattern_regex = data_preprocessing_config.image_extension_regex,\n",
    "    seed= data_preprocessing_config.seed\n",
    ")"
   ]
  },
  {
   "cell_type": "code",
   "execution_count": 9,
   "metadata": {},
   "outputs": [],
   "source": [
    "log_manager.clean_log_file()"
   ]
  }
 ],
 "metadata": {
  "kernelspec": {
   "display_name": "pytorch_gpu",
   "language": "python",
   "name": "python3"
  },
  "language_info": {
   "codemirror_mode": {
    "name": "ipython",
    "version": 3
   },
   "file_extension": ".py",
   "mimetype": "text/x-python",
   "name": "python",
   "nbconvert_exporter": "python",
   "pygments_lexer": "ipython3",
   "version": "3.11.10"
  }
 },
 "nbformat": 4,
 "nbformat_minor": 2
}
